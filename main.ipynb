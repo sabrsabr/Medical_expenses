{
 "cells": [
  {
   "cell_type": "markdown",
   "metadata": {},
   "source": [
    "### Medical Expenses / Медицинские расходы "
   ]
  },
  {
   "cell_type": "markdown",
   "metadata": {},
   "source": [
    "Dataset containing information about medical expenses. The dataset is already divided into ```train.csv``` и ```test.csv```. \n",
    "\n",
    "File ```data_description.txt``` contains the description of the columns.\n",
    "\n",
    "**Purpose:** Purpose: to build models for predicting **medical expenses** (```\"charges\"```).\n",
    "\n",
    "Steps:\n",
    "\n",
    "1. Preprocessing\n",
    "\n",
    "2. Train models\n",
    "\n",
    "3. Сomparing models based on regression metrics\n"
   ]
  },
  {
   "cell_type": "markdown",
   "metadata": {},
   "source": [
    "# Load the data and modules"
   ]
  },
  {
   "cell_type": "code",
   "execution_count": 28,
   "metadata": {},
   "outputs": [],
   "source": [
    "import numpy as np\n",
    "import pandas as pd\n",
    "import matplotlib.pyplot as plt\n",
    "import seaborn as sns\n",
    "from sklearn.preprocessing import OneHotEncoder, LabelEncoder\n",
    "%matplotlib inline"
   ]
  },
  {
   "cell_type": "code",
   "execution_count": 29,
   "metadata": {},
   "outputs": [
    {
     "name": "stdout",
     "output_type": "stream",
     "text": [
      "(1338, 7) (1205, 7)\n"
     ]
    },
    {
     "data": {
      "text/html": [
       "<div>\n",
       "<style scoped>\n",
       "    .dataframe tbody tr th:only-of-type {\n",
       "        vertical-align: middle;\n",
       "    }\n",
       "\n",
       "    .dataframe tbody tr th {\n",
       "        vertical-align: top;\n",
       "    }\n",
       "\n",
       "    .dataframe thead th {\n",
       "        text-align: right;\n",
       "    }\n",
       "</style>\n",
       "<table border=\"1\" class=\"dataframe\">\n",
       "  <thead>\n",
       "    <tr style=\"text-align: right;\">\n",
       "      <th></th>\n",
       "      <th>age</th>\n",
       "      <th>sex</th>\n",
       "      <th>bmi</th>\n",
       "      <th>children</th>\n",
       "      <th>smoker</th>\n",
       "      <th>region</th>\n",
       "      <th>charges</th>\n",
       "    </tr>\n",
       "  </thead>\n",
       "  <tbody>\n",
       "    <tr>\n",
       "      <th>0</th>\n",
       "      <td>34</td>\n",
       "      <td>male</td>\n",
       "      <td>42.900</td>\n",
       "      <td>1</td>\n",
       "      <td>no</td>\n",
       "      <td>southwest</td>\n",
       "      <td>4536.25900</td>\n",
       "    </tr>\n",
       "    <tr>\n",
       "      <th>1</th>\n",
       "      <td>61</td>\n",
       "      <td>female</td>\n",
       "      <td>36.385</td>\n",
       "      <td>1</td>\n",
       "      <td>yes</td>\n",
       "      <td>northeast</td>\n",
       "      <td>48517.56315</td>\n",
       "    </tr>\n",
       "    <tr>\n",
       "      <th>2</th>\n",
       "      <td>60</td>\n",
       "      <td>male</td>\n",
       "      <td>25.740</td>\n",
       "      <td>0</td>\n",
       "      <td>no</td>\n",
       "      <td>southeast</td>\n",
       "      <td>12142.57860</td>\n",
       "    </tr>\n",
       "  </tbody>\n",
       "</table>\n",
       "</div>"
      ],
      "text/plain": [
       "   age     sex     bmi  children smoker     region      charges\n",
       "0   34    male  42.900         1     no  southwest   4536.25900\n",
       "1   61  female  36.385         1    yes  northeast  48517.56315\n",
       "2   60    male  25.740         0     no  southeast  12142.57860"
      ]
     },
     "execution_count": 29,
     "metadata": {},
     "output_type": "execute_result"
    }
   ],
   "source": [
    "train_data = pd.read_csv('train.csv')\n",
    "test_data = pd.read_csv('test.csv')\n",
    "all_data = train_data.append(test_data)\n",
    "print(all_data.shape, train_data.shape)\n",
    "all_data.head(3)"
   ]
  },
  {
   "cell_type": "markdown",
   "metadata": {},
   "source": [
    "# 1. Preprocessing"
   ]
  },
  {
   "cell_type": "code",
   "execution_count": 30,
   "metadata": {
    "scrolled": true
   },
   "outputs": [
    {
     "name": "stdout",
     "output_type": "stream",
     "text": [
      "<class 'pandas.core.frame.DataFrame'>\n",
      "Int64Index: 1338 entries, 0 to 132\n",
      "Data columns (total 7 columns):\n",
      " #   Column    Non-Null Count  Dtype  \n",
      "---  ------    --------------  -----  \n",
      " 0   age       1338 non-null   int64  \n",
      " 1   sex       1338 non-null   object \n",
      " 2   bmi       1338 non-null   float64\n",
      " 3   children  1338 non-null   int64  \n",
      " 4   smoker    1338 non-null   object \n",
      " 5   region    1338 non-null   object \n",
      " 6   charges   1338 non-null   float64\n",
      "dtypes: float64(2), int64(2), object(3)\n",
      "memory usage: 83.6+ KB\n"
     ]
    }
   ],
   "source": [
    "all_data.info()"
   ]
  },
  {
   "cell_type": "code",
   "execution_count": 31,
   "metadata": {
    "scrolled": true
   },
   "outputs": [
    {
     "name": "stdout",
     "output_type": "stream",
     "text": [
      "(1338, 7)\n",
      "age 47 int64\n",
      "sex 2 object\n",
      "bmi 548 float64\n",
      "children 6 int64\n",
      "smoker 2 object\n",
      "region 4 object\n",
      "charges 1337 float64\n"
     ]
    }
   ],
   "source": [
    "print(all_data.shape)\n",
    "for col in all_data:\n",
    "    print(col, len(all_data[col].unique()), all_data[col].dtype)"
   ]
  },
  {
   "cell_type": "code",
   "execution_count": 32,
   "metadata": {},
   "outputs": [
    {
     "data": {
      "text/html": [
       "<div>\n",
       "<style scoped>\n",
       "    .dataframe tbody tr th:only-of-type {\n",
       "        vertical-align: middle;\n",
       "    }\n",
       "\n",
       "    .dataframe tbody tr th {\n",
       "        vertical-align: top;\n",
       "    }\n",
       "\n",
       "    .dataframe thead th {\n",
       "        text-align: right;\n",
       "    }\n",
       "</style>\n",
       "<table border=\"1\" class=\"dataframe\">\n",
       "  <thead>\n",
       "    <tr style=\"text-align: right;\">\n",
       "      <th></th>\n",
       "      <th>age</th>\n",
       "      <th>bmi</th>\n",
       "      <th>children</th>\n",
       "      <th>charges</th>\n",
       "    </tr>\n",
       "  </thead>\n",
       "  <tbody>\n",
       "    <tr>\n",
       "      <th>age</th>\n",
       "      <td>1.000000</td>\n",
       "      <td>0.100281</td>\n",
       "      <td>0.050940</td>\n",
       "      <td>0.296395</td>\n",
       "    </tr>\n",
       "    <tr>\n",
       "      <th>bmi</th>\n",
       "      <td>0.100281</td>\n",
       "      <td>1.000000</td>\n",
       "      <td>0.020396</td>\n",
       "      <td>0.204654</td>\n",
       "    </tr>\n",
       "    <tr>\n",
       "      <th>children</th>\n",
       "      <td>0.050940</td>\n",
       "      <td>0.020396</td>\n",
       "      <td>1.000000</td>\n",
       "      <td>0.059493</td>\n",
       "    </tr>\n",
       "    <tr>\n",
       "      <th>charges</th>\n",
       "      <td>0.296395</td>\n",
       "      <td>0.204654</td>\n",
       "      <td>0.059493</td>\n",
       "      <td>1.000000</td>\n",
       "    </tr>\n",
       "  </tbody>\n",
       "</table>\n",
       "</div>"
      ],
      "text/plain": [
       "               age       bmi  children   charges\n",
       "age       1.000000  0.100281  0.050940  0.296395\n",
       "bmi       0.100281  1.000000  0.020396  0.204654\n",
       "children  0.050940  0.020396  1.000000  0.059493\n",
       "charges   0.296395  0.204654  0.059493  1.000000"
      ]
     },
     "execution_count": 32,
     "metadata": {},
     "output_type": "execute_result"
    }
   ],
   "source": [
    "train_data.corr()"
   ]
  },
  {
   "cell_type": "code",
   "execution_count": 35,
   "metadata": {},
   "outputs": [
    {
     "data": {
      "text/html": [
       "<div>\n",
       "<style scoped>\n",
       "    .dataframe tbody tr th:only-of-type {\n",
       "        vertical-align: middle;\n",
       "    }\n",
       "\n",
       "    .dataframe tbody tr th {\n",
       "        vertical-align: top;\n",
       "    }\n",
       "\n",
       "    .dataframe thead th {\n",
       "        text-align: right;\n",
       "    }\n",
       "</style>\n",
       "<table border=\"1\" class=\"dataframe\">\n",
       "  <thead>\n",
       "    <tr style=\"text-align: right;\">\n",
       "      <th></th>\n",
       "      <th>age</th>\n",
       "      <th>sex</th>\n",
       "      <th>bmi</th>\n",
       "      <th>children</th>\n",
       "      <th>smoker</th>\n",
       "      <th>region</th>\n",
       "      <th>charges</th>\n",
       "    </tr>\n",
       "  </thead>\n",
       "  <tbody>\n",
       "    <tr>\n",
       "      <th>0</th>\n",
       "      <td>34</td>\n",
       "      <td>1</td>\n",
       "      <td>42.900</td>\n",
       "      <td>1</td>\n",
       "      <td>0</td>\n",
       "      <td>3</td>\n",
       "      <td>4536.25900</td>\n",
       "    </tr>\n",
       "    <tr>\n",
       "      <th>1</th>\n",
       "      <td>61</td>\n",
       "      <td>0</td>\n",
       "      <td>36.385</td>\n",
       "      <td>1</td>\n",
       "      <td>1</td>\n",
       "      <td>0</td>\n",
       "      <td>48517.56315</td>\n",
       "    </tr>\n",
       "    <tr>\n",
       "      <th>2</th>\n",
       "      <td>60</td>\n",
       "      <td>1</td>\n",
       "      <td>25.740</td>\n",
       "      <td>0</td>\n",
       "      <td>0</td>\n",
       "      <td>2</td>\n",
       "      <td>12142.57860</td>\n",
       "    </tr>\n",
       "  </tbody>\n",
       "</table>\n",
       "</div>"
      ],
      "text/plain": [
       "   age  sex     bmi  children  smoker  region      charges\n",
       "0   34    1  42.900         1       0       3   4536.25900\n",
       "1   61    0  36.385         1       1       0  48517.56315\n",
       "2   60    1  25.740         0       0       2  12142.57860"
      ]
     },
     "execution_count": 35,
     "metadata": {},
     "output_type": "execute_result"
    }
   ],
   "source": [
    "encoder = LabelEncoder()\n",
    "for col in ['sex', 'smoker', 'region']:\n",
    "    all_data[col] = encoder.fit_transform(all_data[col])\n",
    "all_data.head(3)"
   ]
  },
  {
   "cell_type": "code",
   "execution_count": 43,
   "metadata": {},
   "outputs": [],
   "source": [
    "train_data = all_data.iloc[:1205,]\n",
    "test_data = all_data.iloc[1205:]"
   ]
  },
  {
   "cell_type": "code",
   "execution_count": 47,
   "metadata": {},
   "outputs": [
    {
     "data": {
      "text/plain": [
       "['age', 'sex', 'bmi', 'children', 'smoker', 'region']"
      ]
     },
     "execution_count": 47,
     "metadata": {},
     "output_type": "execute_result"
    }
   ],
   "source": [
    "important = list(train_data.columns)\n",
    "important.remove('charges')\n",
    "important"
   ]
  },
  {
   "cell_type": "markdown",
   "metadata": {},
   "source": [
    "# 2. Train models"
   ]
  },
  {
   "cell_type": "code",
   "execution_count": 45,
   "metadata": {},
   "outputs": [],
   "source": [
    "from sklearn.linear_model import LinearRegression, RidgeCV\n",
    "from sklearn.preprocessing import PolynomialFeatures, StandardScaler\n",
    "from sklearn.tree import DecisionTreeRegressor\n",
    "from sklearn.ensemble import RandomForestRegressor\n",
    "from sklearn.svm import SVR\n",
    "import sklearn.metrics as metrics"
   ]
  },
  {
   "cell_type": "code",
   "execution_count": 48,
   "metadata": {},
   "outputs": [],
   "source": [
    "ytrue = test_data['charges']\n",
    "xtest = test_data[important]\n",
    "ytrain = train_data['charges']\n",
    "xtrain = train_data[important]"
   ]
  },
  {
   "cell_type": "code",
   "execution_count": 49,
   "metadata": {},
   "outputs": [],
   "source": [
    "def r2alpha(xtrain, r2):\n",
    "    n, k = xtrain.shape\n",
    "    return round(1 - (n-1)/(n-k-1)*(1-r2),2)\n",
    "\n",
    "def CompareRegressions(xtrain, ytrain, xtest, ytrue):\n",
    "    #Multiple Linear Regression\n",
    "    LinRegressor = LinearRegression()\n",
    "    LinRegressor.fit(xtrain, ytrain)\n",
    "    ypred = LinRegressor.predict(xtest)\n",
    "    r2a = r2alpha(xtrain, metrics.r2_score(ytrue, ypred))\n",
    "    print(f'Multiple Lin Regression RMSE: {round(metrics.mean_squared_error(ytrue, ypred, squared=False))} R2alpha: {r2a}' )\n",
    "    #Multiple Polynomial Regression\n",
    "    xtrainPol2 = PolynomialFeatures(2).fit_transform(xtrain)\n",
    "    xtestPol2 = PolynomialFeatures(2).fit_transform(xtest)\n",
    "    PolRegressor = LinearRegression()\n",
    "    PolRegressor.fit(xtrainPol2, ytrain)\n",
    "    ypred = PolRegressor.predict(xtestPol2)\n",
    "    r2a = r2alpha(xtrain, metrics.r2_score(ytrue, ypred))\n",
    "    print(f'Multiple Polynomial Regression RMSE: {round(metrics.mean_squared_error(ytrue, ypred, squared=False))} R2alpha: {r2a}' )\n",
    "    #Decision Tree\n",
    "    DTregressor = DecisionTreeRegressor(random_state = 0)\n",
    "    DTregressor.fit(xtrain, ytrain)\n",
    "    ypred = DTregressor.predict(xtest)\n",
    "    r2a = r2alpha(xtrain, metrics.r2_score(ytrue, ypred))\n",
    "    print(f'Decision Tree RMSE: {round(metrics.mean_squared_error(ytrue, ypred, squared=False))} R2alpha: {r2a}' )\n",
    "    #Random Forest\n",
    "    RFregressor = RandomForestRegressor()\n",
    "    RFregressor.fit(xtrain, ytrain)\n",
    "    ypred = RFregressor.predict(xtest)\n",
    "    r2a = r2alpha(xtrain, metrics.r2_score(ytrue, ypred))\n",
    "    print(f'Random Forest RMSE: {round(metrics.mean_squared_error(ytrue, ypred, squared=False))} R2alpha: {r2a}' )\n",
    "    #SVR\n",
    "    scaler = StandardScaler()\n",
    "    scaler.fit(xtrain)\n",
    "    scaled_xtrain = scaler.transform(xtrain)\n",
    "    scaled_xtest = scaler.transform(xtest)\n",
    "    \n",
    "    yscaler = StandardScaler()\n",
    "    yscaler.fit(ytrain.values.reshape(-1,1))\n",
    "    scaled_ytrain = yscaler.transform(ytrain.values.reshape(-1,1))\n",
    "    \n",
    "    regressor = SVR(kernel='rbf')\n",
    "    regressor.fit(scaled_xtrain, scaled_ytrain)\n",
    "    ypred = regressor.predict(scaled_xtest)\n",
    "    ypred = yscaler.inverse_transform(ypred)\n",
    "    r2a = r2alpha(xtrain, metrics.r2_score(ytrue, ypred))\n",
    "    print(f'SVR RMSE: {round(metrics.mean_squared_error(ytrue, ypred, squared=False))} R2alpha: {r2a}' )"
   ]
  },
  {
   "cell_type": "markdown",
   "metadata": {},
   "source": [
    "# 3. Сomparing models based on regression metrics"
   ]
  },
  {
   "cell_type": "code",
   "execution_count": 50,
   "metadata": {},
   "outputs": [
    {
     "name": "stdout",
     "output_type": "stream",
     "text": [
      "Multiple Lin Regression RMSE: 5960 R2alpha: 0.78\n",
      "Multiple Polynomial Regression RMSE: 4993 R2alpha: 0.85\n",
      "Decision Tree RMSE: 5824 R2alpha: 0.79\n",
      "Random Forest RMSE: 4543 R2alpha: 0.87\n"
     ]
    },
    {
     "name": "stderr",
     "output_type": "stream",
     "text": [
      "C:\\Users\\jurum\\anaconda3\\lib\\site-packages\\sklearn\\utils\\validation.py:63: DataConversionWarning: A column-vector y was passed when a 1d array was expected. Please change the shape of y to (n_samples, ), for example using ravel().\n",
      "  return f(*args, **kwargs)\n"
     ]
    },
    {
     "name": "stdout",
     "output_type": "stream",
     "text": [
      "SVR RMSE: 4601 R2alpha: 0.87\n"
     ]
    }
   ],
   "source": [
    "CompareRegressions(xtrain, ytrain, xtest, ytrue)"
   ]
  },
  {
   "cell_type": "markdown",
   "metadata": {},
   "source": [
    "#####  Best Result Random Forest"
   ]
  }
 ],
 "metadata": {
  "kernelspec": {
   "display_name": "Python 3",
   "language": "python",
   "name": "python3"
  },
  "language_info": {
   "codemirror_mode": {
    "name": "ipython",
    "version": 3
   },
   "file_extension": ".py",
   "mimetype": "text/x-python",
   "name": "python",
   "nbconvert_exporter": "python",
   "pygments_lexer": "ipython3",
   "version": "3.8.8"
  }
 },
 "nbformat": 4,
 "nbformat_minor": 2
}
